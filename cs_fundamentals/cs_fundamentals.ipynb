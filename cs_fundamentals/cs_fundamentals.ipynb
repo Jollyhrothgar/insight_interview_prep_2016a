{
 "cells": [
  {
   "cell_type": "code",
   "execution_count": 27,
   "metadata": {
    "collapsed": false
   },
   "outputs": [
    {
     "data": {
      "application/javascript": [
       "$.getScript('https://kmahelona.github.io/ipython_notebook_goodies/ipython_notebook_toc.js')"
      ],
      "text/plain": [
       "<IPython.core.display.Javascript object>"
      ]
     },
     "metadata": {},
     "output_type": "display_data"
    }
   ],
   "source": [
    "%%javascript\n",
    "$.getScript('https://kmahelona.github.io/ipython_notebook_goodies/ipython_notebook_toc.js')"
   ]
  },
  {
   "cell_type": "markdown",
   "metadata": {},
   "source": [
    "<h1 id=\"tcheading\">Table Of Contents</h1>\n",
    "<div id =\"toc\"></div>"
   ]
  },
  {
   "cell_type": "markdown",
   "metadata": {},
   "source": [
    "# CSS Fundamentals"
   ]
  },
  {
   "cell_type": "markdown",
   "metadata": {},
   "source": [
    "## Linked Lists"
   ]
  },
  {
   "cell_type": "markdown",
   "metadata": {},
   "source": [
    "### What are they\n",
    "A linked list is a data structure, consisting of the following features:\n",
    "* A Node\n",
    "* A \"data packet\"\n",
    "* A link to another node\n",
    "\n",
    "A group of linked lists represent a sequence\n",
    "\n",
    "A linked list can be the data structure primative, which can be used to build several other data structures, including"
   ]
  },
  {
   "cell_type": "code",
   "execution_count": 28,
   "metadata": {
    "collapsed": false
   },
   "outputs": [],
   "source": [
    "class Node(object):\n",
    "\n",
    "    def __init__(self, data=None, next_node=None):\n",
    "        self.data = data\n",
    "        self.next_node = next_node\n",
    "\n",
    "    def get_data(self):\n",
    "        return self.data\n",
    "\n",
    "    def get_next(self):\n",
    "        return self.next_node\n",
    "\n",
    "    def set_next(self, new_next):\n",
    "        self.next_node = new_next\n",
    "\n",
    "class LinkedList(object):\n",
    "    def __init__(self, head=None):\n",
    "        self.head = head\n",
    "    def insert(self, data):\n",
    "        new_node = Node(data)\n",
    "        new_node.set_next(self.head)\n",
    "        self.head = new_node\n",
    "    def size(self):\n",
    "        current = self.head\n",
    "        count = 0\n",
    "        while current:\n",
    "            count += 1\n",
    "            print current.get_data()\n",
    "            current = current.get_next()\n",
    "        return count\n",
    "    \n",
    "    def search(self, data):\n",
    "        current = self.head\n",
    "        found = False\n",
    "        while current and found is False:\n",
    "            if current.get_data() == data:\n",
    "                found = True\n",
    "            else:\n",
    "                current = current.get_next()\n",
    "        if current is None:\n",
    "            raise ValueError(\"Data not in list\")\n",
    "        return current\n",
    "\n",
    "    def delete(self, data):\n",
    "        current = self.head\n",
    "        previous = None\n",
    "        found = False\n",
    "        while current and found is False:\n",
    "            if current.get_data() == data:\n",
    "                found = True\n",
    "            else:\n",
    "                previous = current\n",
    "                current = current.get_next()\n",
    "        if current is None:\n",
    "            raise ValueError(\"Data not in list\")\n",
    "        if previous is None:\n",
    "            self.head = current.get_next()\n",
    "        else:\n",
    "            previous.set_next(current.get_next())"
   ]
  },
  {
   "cell_type": "markdown",
   "metadata": {},
   "source": [
    "## Sorting Algorithms"
   ]
  },
  {
   "cell_type": "markdown",
   "metadata": {},
   "source": [
    "### Bubble Sort\n",
    "\n",
    "The bubble sort algorithm is of order $\\mathcal{O}(n^2)$ complexity, and can be done in constant memory. The algorithm goes:"
   ]
  },
  {
   "cell_type": "code",
   "execution_count": 29,
   "metadata": {
    "collapsed": false
   },
   "outputs": [
    {
     "name": "stdout",
     "output_type": "stream",
     "text": [
      "[1, 1, 1, 2, 3, 4, 4, 7, 8, 8, 9, 11, 17, 19, 21, 21, 21, 22, 22, 23, 24, 24, 24, 26, 28, 29, 30, 30, 30, 33, 34, 37, 38, 38, 40, 40, 42, 42, 43, 45, 46, 48, 50, 50, 51, 51, 54, 54, 55, 56, 56, 56, 56, 59, 60, 60, 60, 62, 62, 63, 63, 64, 64, 67, 68, 68, 70, 71, 73, 73, 75, 75, 77, 77, 79, 79, 80, 81, 83, 83, 83, 84, 86, 87, 87, 88, 90, 90, 91, 92, 93, 95, 96, 96, 98, 98, 98, 99, 99, 100]\n"
     ]
    }
   ],
   "source": [
    "#!/usr/bin/env python\n",
    "import random\n",
    "\n",
    "\n",
    "def bubble_sort(my_list):\n",
    "    number_of_iterations = 0\n",
    "    unsorted = True\n",
    "    while(unsorted == True):\n",
    "        unsorted = False\n",
    "        for index in range(len(unsorted_list)-1):\n",
    "            current_entry = my_list[index]\n",
    "            next_entry = my_list[index+1]\n",
    "            if  next_entry < current_entry:\n",
    "                my_list[index] = next_entry\n",
    "                my_list[index+1] = current_entry\n",
    "                unsorted = True\n",
    "        number_of_iterations += 1\n",
    "    return my_list\n",
    "\n",
    "unsorted_list = []\n",
    "for x in range(100):\n",
    "    unsorted_list.append(random.randint(1,100))\n",
    "sorted_list = bubble_sort(unsorted_list)\n",
    "\n",
    "print sorted_list"
   ]
  },
  {
   "cell_type": "markdown",
   "metadata": {},
   "source": [
    "### Selection Sort\n",
    "\n",
    "The selection sort, depending on order, will select the highest(lowest) item in a list, and then continue to fill the list according to the next highest(lowest) members. Memory is constant, as we pop items off the list to be sorted, and then organize it while sorting"
   ]
  },
  {
   "cell_type": "code",
   "execution_count": null,
   "metadata": {
    "collapsed": true
   },
   "outputs": [],
   "source": [
    "def select_sort(a_list):\n",
    "    '''\n",
    "    Select Sort will find the global minimum in a list, and copy it to a sorted list. \n",
    "    This function takes as an argument any list for which the \"<\" \">\" or \"==\" operators\n",
    "    are defined, and sorts it, in ascending order, from smallest to greatest.\n",
    "    '''\n",
    "    final_list = []\n",
    "    while len(a_list) > 0:\n",
    "        current_minimum = (0,a_list[0])\n",
    "        for item in a_list:\n",
    "            if item < (0,current_minimum):\n",
    "                "
   ]
  },
  {
   "cell_type": "markdown",
   "metadata": {
    "collapsed": true
   },
   "source": [
    "# Dynamic Programming Problems\n",
    "* Typical Categories:\n",
    "* Binary search tree, or Binary Tree\n",
    "* DFS, BFS Graph Algorithms\n",
    "* recursion. \n",
    "    * Stack, Queue, Heap\n",
    "* Dynamic Programming\n",
    "    * min, max, etc\n",
    "\n",
    "Goal: solve a complex problem by breaking it down into several sub-solutions. Calculate small solutions exactly once, store in memory to avoid repeated calculation."
   ]
  },
  {
   "cell_type": "markdown",
   "metadata": {
    "collapsed": true
   },
   "source": [
    "## Simple Example - Fibonnaci Sequence"
   ]
  },
  {
   "cell_type": "code",
   "execution_count": 12,
   "metadata": {
    "collapsed": true
   },
   "outputs": [],
   "source": [
    "# Recursive Solution:\n",
    "def fib_r(n):\n",
    "    if n <= 2:\n",
    "        return 1\n",
    "    else:\n",
    "        return fib(n-1) + fib(n-2)"
   ]
  },
  {
   "cell_type": "code",
   "execution_count": 19,
   "metadata": {
    "collapsed": false
   },
   "outputs": [
    {
     "name": "stdout",
     "output_type": "stream",
     "text": [
      "43466557686937456435688527675040625802564660517371780402481729089536555417949051890403879840079255169295922593080322634775209689623239873322471161642996440906533187938298969649928516003704476137795166849228875\n"
     ]
    }
   ],
   "source": [
    "print fib_r(1000)"
   ]
  },
  {
   "cell_type": "markdown",
   "metadata": {},
   "source": [
    "### Create a table\n",
    "* n = \n",
    "* n+1 = \n",
    "* n+2 = "
   ]
  },
  {
   "cell_type": "code",
   "execution_count": 14,
   "metadata": {
    "collapsed": false
   },
   "outputs": [],
   "source": [
    "def fib_dp(n):\n",
    "    fibValues = [0,1]\n",
    "    for i in range(2,n+1):\n",
    "        fibValues.append(fibValues[i-1] + fibValues[i-2])\n",
    "    return fibValues[n]"
   ]
  },
  {
   "cell_type": "code",
   "execution_count": 20,
   "metadata": {
    "collapsed": false
   },
   "outputs": [
    {
     "name": "stdout",
     "output_type": "stream",
     "text": [
      "43466557686937456435688527675040625802564660517371780402481729089536555417949051890403879840079255169295922593080322634775209689623239873322471161642996440906533187938298969649928516003704476137795166849228875\n"
     ]
    }
   ],
   "source": [
    "print fib_dp(1000)"
   ]
  },
  {
   "cell_type": "markdown",
   "metadata": {},
   "source": [
    "### Keys to programming\n",
    "* know your base case\n",
    "* know the relationships between the problem and the sample"
   ]
  },
  {
   "cell_type": "markdown",
   "metadata": {},
   "source": [
    "## Longest Increasing Subsequence - Return Length\n",
    "* Subarray: continuous sequence in array\n",
    "* Subsequence:\n",
    "* Use case: stock market, when to buy and sell"
   ]
  },
  {
   "cell_type": "code",
   "execution_count": 16,
   "metadata": {
    "collapsed": true
   },
   "outputs": [],
   "source": [
    "test_list = [10,9,2,5,3,7,101,18]"
   ]
  },
  {
   "cell_type": "markdown",
   "metadata": {},
   "source": [
    "### Base Case:\n",
    "* [] - Empty list\n",
    "* [5] - One entry in list\n",
    "\n",
    "### Leetcode Problems:\n",
    "* 300\n",
    "* 96"
   ]
  },
  {
   "cell_type": "code",
   "execution_count": null,
   "metadata": {
    "collapsed": true
   },
   "outputs": [],
   "source": []
  }
 ],
 "metadata": {
  "kernelspec": {
   "display_name": "Python 2",
   "language": "python",
   "name": "python2"
  },
  "language_info": {
   "codemirror_mode": {
    "name": "ipython",
    "version": 2
   },
   "file_extension": ".py",
   "mimetype": "text/x-python",
   "name": "python",
   "nbconvert_exporter": "python",
   "pygments_lexer": "ipython2",
   "version": "2.7.11"
  }
 },
 "nbformat": 4,
 "nbformat_minor": 0
}
