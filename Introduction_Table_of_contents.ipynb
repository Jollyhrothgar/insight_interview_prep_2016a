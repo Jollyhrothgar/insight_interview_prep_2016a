{
 "cells": [
  {
   "cell_type": "markdown",
   "metadata": {},
   "source": [
    "# Introduction  \n",
    "\n",
    "This repository contains materials I generated as part of my preparations for interviews in insight data science!\n",
    "\n",
    "Within this repository, I have ranked the study topics, and will create python notebooks or links to solutions, and further study.\n",
    "\n",
    "Topics (overall) will be rated with a score (1, 2, or 3), where 3 is \"very prepared\", 2 is \"familiar, needs study\" and 3 is \"not at all prepared\"."
   ]
  },
  {
   "cell_type": "markdown",
   "metadata": {},
   "source": [
    " \n",
    "## Effective Communicaiton [3]\n",
    "\n",
    "This needs to be practiced while studying.\n",
    "\n",
    "Reading List: Sell Yourself in any Interview, by Oscar Adler, Chapter 1, 2"
   ]
  },
  {
   "cell_type": "markdown",
   "metadata": {},
   "source": [
    "## CS Fundamentals \n",
    "**Basics**\n",
    "* [3] [Data Types, Operators, Variables](http://ocw.mit.edu/courses/electrical-engineering-and-computer-science/6-00-introduction-to-computer-science-and-programming-fall-2008/video-lectures/lecture-1)\n",
    "* [3] [Branching, Conditionals, Iteration](http://ocw.mit.edu/courses/electrical-engineering-and-computer-science/6-00-introduction-to-computer-science-and-programming-fall-2008/video-lectures/lecture-2)\n",
    "* [2] [Common Code Patterns, Iterative Programs](http://ocw.mit.edu/courses/electrical-engineering-and-computer-science/6-00-introduction-to-computer-science-and-programming-fall-2008/video-lectures/lecture-3)\n",
    "* [2] [Abstraction through Functions, Recursion](http://ocw.mit.edu/courses/electrical-engineering-and-computer-science/6-00-introduction-to-computer-science-and-programming-fall-2008/video-lectures/lecture-4)\n",
    "* [2] [Floating point numbers, root finding](http://ocw.mit.edu/courses/electrical-engineering-and-computer-science/6-00-introduction-to-computer-science-and-programming-fall-2008/video-lectures/lecture-5)\n",
    "* [2] [Bisection Methods, Newton/Raphson, Intro to Lists] (http://ocw.mit.edu/courses/electrical-engineering-and-computer-science/6-00-introduction-to-computer-science-and-programming-fall-2008/video-lectures/lecture-6)\n",
    "* [3] [Lists and Mutability, Dictionaries, Intro to Efficiency](http://ocw.mit.edu/courses/electrical-engineering-and-computer-science/6-00-introduction-to-computer-science-and-programming-fall-2008/video-lectures/lecture-7)\n",
    "* [1] [Complexity, Log, Linear, Quadratic, Exponential Algorithms](http://ocw.mit.edu/courses/electrical-engineering-and-computer-science/6-00-introduction-to-computer-science-and-programming-fall-2008/video-lectures/lecture-8)\n",
    "* [1] [Binary Search, Bubble and Selection Search](http://ocw.mit.edu/courses/electrical-engineering-and-computer-science/6-00-introduction-to-computer-science-and-programming-fall-2008/video-lectures/lecture-9)\n",
    "* [1] [Divide and Conquor Methods, Merge Sort, Exceptions](http://ocw.mit.edu/courses/electrical-engineering-and-computer-science/6-00-introduction-to-computer-science-and-programming-fall-2008/video-lectures/lecture-10)\n",
    "\n",
    "**More Advanced CS**\n",
    "* [1] [Code the problems, solutions, from scratch, lectures 11-24](http://ocw.mit.edu/courses/electrical-engineering-and-computer-science/6-00-introduction-to-computer-science-and-programming-fall-2008/video-lectures/)\n",
    "* [1] [Python - Algorithms, Data Structures](http://interactivepython.org/runestone/static/pythonds/index.html)\n",
    "* [2] [Leetcode programming challenge problems](https://leetcode.com/)\n",
    "\n",
    "### CS Topics\n",
    "* [3] $\\mathcal{O}(n)$ notation, and complexity.\n",
    "* **Data Structures**\n",
    "    * [1] Hash Table\n",
    "    * [1] Stack/Queue/Deque\n",
    "    * [1] LinkedList \n",
    "    * [1] Heap - constructs in $\\mathcal{O}(n)$ time\n",
    "    * [1] Trees - balanced - same # nodes on each side for level n-1, vs unbalanced\n",
    "* ** Recursion and Master Theorem **\n",
    "* ** Algorithms [Coursera Link](https://www.coursera.org/login?course_id=970400&r=https%3A%2F%2Fclass.coursera.org%2Falgs4partI-003&user_action=class&topic_name=Algorithms%2C%20Part%20I) **\n",
    "    * **Sorting Algorithms**\n",
    "        * [1] Bubble Sort, $\\mathcal{O}(n^2)$ complexity, constant memory\n",
    "        * [1] Selection Sort, $\\mathcal{O}(n^2)$ complexity, constant memory\n",
    "        * [1] Insertion Sort, $\\mathcal{O}(n^2)$ complexity, constant memory\n",
    "        * [1] Merge Sort, $\\mathcal{O}(n log(n))$ complexity, 2n memory\n",
    "        * [1] Quick Sort, $\\mathcal{O}(n^2)$ complexity, constant memory\n",
    "        * [1] Heap Sort, $\\mathcal{O}(n log(n))$ complexity, constant memory\n",
    "        * [1] Timsort, (hybrid merge/insertion) (just need to know this is how python works internally, with sorted)\n",
    "    * **Graph Algorithms**\n",
    "        * [1] DFS (Depth-First Search)\n",
    "        * [1] BFS (Breadth-First Search)\n",
    "        * [1] Dijkstra's Search (Shortest Path)\n",
    "        * [1] Path of least resistence\n",
    "    * **Dynamic Programming **\n",
    "        * [1] Memorization\n",
    "        * [1] Knapsack Problem\n",
    "        * [1] Fibonacci Sequence\n",
    "    * **Resevoir Sampling**\n",
    "* **Math and Brain Teasers**\n",
    "    * [1] Combinatorics:\n",
    "        * $_nC_k$ style problems\n",
    "        * \"two eggs\" problem\n",
    "        * five fastest horses problem\n",
    "* **Sample Problems**\n",
    "    * Write a function that lists all three digit lock combiniations, each number $0\\lt n\\leq30$, non-repeating. Generalize to more than three numbers, with no local storage.\n",
    "    * [2] Traverse binary search tree in order without recursion\n",
    "    * [2] Write a function which takes a base-10 number and postive integer, $k_i \\leq 2 $ and print out number in base k \n",
    "    * [1] Solve the 0-1 knapsack problem\n",
    "    * [2] Given an array of numbers, find the subarray which has the greatest sum, $\\matcal{O}(n)$\n",
    "* ** Text Processing Problems ** \n",
    "    * [2] Replace a string in-place with no extra memory\n",
    "    * [3] Remove stop words from a sentence\n",
    "    * [3] Find palentromes in any string\n",
    " "
   ]
  },
  {
   "cell_type": "markdown",
   "metadata": {},
   "source": [
    "## SQL + MapReduce & Hive"
   ]
  },
  {
   "cell_type": "markdown",
   "metadata": {},
   "source": [
    "## Analytics"
   ]
  },
  {
   "cell_type": "markdown",
   "metadata": {},
   "source": [
    "## Statistics"
   ]
  },
  {
   "cell_type": "markdown",
   "metadata": {},
   "source": [
    "## Machine Learning"
   ]
  },
  {
   "cell_type": "markdown",
   "metadata": {},
   "source": [
    "## Tools For Data Challenges"
   ]
  },
  {
   "cell_type": "markdown",
   "metadata": {},
   "source": [
    "## Misc Notes"
   ]
  },
  {
   "cell_type": "code",
   "execution_count": null,
   "metadata": {
    "collapsed": true
   },
   "outputs": [],
   "source": []
  }
 ],
 "metadata": {
  "kernelspec": {
   "display_name": "Python 2",
   "language": "python",
   "name": "python2"
  },
  "language_info": {
   "codemirror_mode": {
    "name": "ipython",
    "version": 2
   },
   "file_extension": ".py",
   "mimetype": "text/x-python",
   "name": "python",
   "nbconvert_exporter": "python",
   "pygments_lexer": "ipython2",
   "version": "2.7.11"
  }
 },
 "nbformat": 4,
 "nbformat_minor": 0
}
